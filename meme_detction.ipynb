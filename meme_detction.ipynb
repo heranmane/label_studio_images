{
 "cells": [
  {
   "cell_type": "code",
   "execution_count": 1,
   "metadata": {},
   "outputs": [],
   "source": [
    "import pandas as pd"
   ]
  },
  {
   "cell_type": "code",
   "execution_count": 34,
   "metadata": {},
   "outputs": [
    {
     "data": {
      "text/plain": [
       "(12100, 63)"
      ]
     },
     "execution_count": 34,
     "metadata": {},
     "output_type": "execute_result"
    }
   ],
   "source": [
    "df = pd.read_csv('crowdtangle_unfiltered_data/2022-01/2022-01-15.csv')\n",
    "df.shape"
   ]
  },
  {
   "cell_type": "code",
   "execution_count": 35,
   "metadata": {},
   "outputs": [
    {
     "data": {
      "text/plain": [
       "24600"
      ]
     },
     "execution_count": 35,
     "metadata": {},
     "output_type": "execute_result"
    }
   ],
   "source": [
    "12500 + 12100"
   ]
  },
  {
   "cell_type": "code",
   "execution_count": 33,
   "metadata": {},
   "outputs": [
    {
     "data": {
      "text/plain": [
       "(12500, 63)"
      ]
     },
     "execution_count": 33,
     "metadata": {},
     "output_type": "execute_result"
    }
   ],
   "source": [
    "df.shape"
   ]
  },
  {
   "cell_type": "code",
   "execution_count": 25,
   "metadata": {},
   "outputs": [
    {
     "data": {
      "text/plain": [
       "{'platformId': True,\n",
       " 'platform': True,\n",
       " 'date': True,\n",
       " 'updated': True,\n",
       " 'type': True,\n",
       " 'message': True,\n",
       " 'expandedLinks': True,\n",
       " 'link': True,\n",
       " 'postUrl': True,\n",
       " 'subscriberCount': True,\n",
       " 'score': True,\n",
       " 'media': True,\n",
       " 'statistics_actual_likeCount': True,\n",
       " 'statistics_actual_shareCount': True,\n",
       " 'statistics_actual_commentCount': True,\n",
       " 'statistics_actual_loveCount': True,\n",
       " 'statistics_actual_wowCount': True,\n",
       " 'statistics_actual_hahaCount': True,\n",
       " 'statistics_actual_sadCount': True,\n",
       " 'statistics_actual_angryCount': True,\n",
       " 'statistics_actual_thankfulCount': True,\n",
       " 'statistics_actual_careCount': True,\n",
       " 'statistics_expected_likeCount': True,\n",
       " 'statistics_expected_shareCount': True,\n",
       " 'statistics_expected_commentCount': True,\n",
       " 'statistics_expected_loveCount': True,\n",
       " 'statistics_expected_wowCount': True,\n",
       " 'statistics_expected_hahaCount': True,\n",
       " 'statistics_expected_sadCount': True,\n",
       " 'statistics_expected_angryCount': True,\n",
       " 'statistics_expected_thankfulCount': True,\n",
       " 'statistics_expected_careCount': True,\n",
       " 'account_id': True,\n",
       " 'account_name': True,\n",
       " 'account_handle': True,\n",
       " 'account_profileImage': True,\n",
       " 'account_subscriberCount': True,\n",
       " 'account_url': True,\n",
       " 'account_platform': True,\n",
       " 'account_platformId': True,\n",
       " 'account_accountType': True,\n",
       " 'account_pageAdminTopCountry': True,\n",
       " 'account_pageDescription': True,\n",
       " 'account_pageCreatedDate': True,\n",
       " 'account_pageCategory': True,\n",
       " 'account_verified': True,\n",
       " 'brandedContentSponsor_id': True,\n",
       " 'brandedContentSponsor_name': True,\n",
       " 'brandedContentSponsor_handle': True,\n",
       " 'brandedContentSponsor_profileImage': True,\n",
       " 'brandedContentSponsor_subscriberCount': True,\n",
       " 'brandedContentSponsor_url': True,\n",
       " 'brandedContentSponsor_platform': True,\n",
       " 'brandedContentSponsor_platformId': True,\n",
       " 'brandedContentSponsor_accountType': True,\n",
       " 'brandedContentSponsor_pageDescription': True,\n",
       " 'brandedContentSponsor_pageCreatedDate': True,\n",
       " 'brandedContentSponsor_pageCategory': True,\n",
       " 'brandedContentSponsor_verified': True,\n",
       " 'history': True,\n",
       " 'languageCode': True,\n",
       " 'legacyId': True,\n",
       " 'id': True}"
      ]
     },
     "execution_count": 25,
     "metadata": {},
     "output_type": "execute_result"
    }
   ],
   "source": [
    "# Filter the DataFrame\n",
    "filtered_df = df[df.id == '40046|3258948800995435']\n",
    "\n",
    "# Function to check if all non-NaN values in a column are the same\n",
    "def are_all_values_equal(column):\n",
    "    # Drop NaN values and check uniqueness\n",
    "    return column.dropna().nunique() <= 1\n",
    "\n",
    "# Apply the function to each column and get the results in a dictionary\n",
    "comparison_results = {col: are_all_values_equal(filtered_df[col]) for col in filtered_df.columns}\n",
    "\n",
    "# Display the results\n",
    "comparison_results"
   ]
  },
  {
   "cell_type": "code",
   "execution_count": 24,
   "metadata": {},
   "outputs": [
    {
     "data": {
      "text/plain": [
       "1196   NaN\n",
       "1202   NaN\n",
       "Name: brandedContentSponsor_id, dtype: float64"
      ]
     },
     "execution_count": 24,
     "metadata": {},
     "output_type": "execute_result"
    }
   ],
   "source": [
    "filtered_df['brandedContentSponsor_id']"
   ]
  },
  {
   "cell_type": "code",
   "execution_count": null,
   "metadata": {},
   "outputs": [],
   "source": []
  },
  {
   "cell_type": "code",
   "execution_count": 15,
   "metadata": {},
   "outputs": [
    {
     "data": {
      "text/html": [
       "<div>\n",
       "<style scoped>\n",
       "    .dataframe tbody tr th:only-of-type {\n",
       "        vertical-align: middle;\n",
       "    }\n",
       "\n",
       "    .dataframe tbody tr th {\n",
       "        vertical-align: top;\n",
       "    }\n",
       "\n",
       "    .dataframe thead th {\n",
       "        text-align: right;\n",
       "    }\n",
       "</style>\n",
       "<table border=\"1\" class=\"dataframe\">\n",
       "  <thead>\n",
       "    <tr style=\"text-align: right;\">\n",
       "      <th></th>\n",
       "      <th>platformId</th>\n",
       "      <th>platform</th>\n",
       "      <th>date</th>\n",
       "      <th>updated</th>\n",
       "      <th>type</th>\n",
       "      <th>message</th>\n",
       "      <th>expandedLinks</th>\n",
       "      <th>link</th>\n",
       "      <th>postUrl</th>\n",
       "      <th>subscriberCount</th>\n",
       "      <th>...</th>\n",
       "      <th>brandedContentSponsor_platformId</th>\n",
       "      <th>brandedContentSponsor_accountType</th>\n",
       "      <th>brandedContentSponsor_pageDescription</th>\n",
       "      <th>brandedContentSponsor_pageCreatedDate</th>\n",
       "      <th>brandedContentSponsor_pageCategory</th>\n",
       "      <th>brandedContentSponsor_verified</th>\n",
       "      <th>history</th>\n",
       "      <th>languageCode</th>\n",
       "      <th>legacyId</th>\n",
       "      <th>id</th>\n",
       "    </tr>\n",
       "  </thead>\n",
       "  <tbody>\n",
       "    <tr>\n",
       "      <th>11996</th>\n",
       "      <td>100044377118285_504364417719458</td>\n",
       "      <td>Facebook</td>\n",
       "      <td>2022-01-15 19:00:35</td>\n",
       "      <td>2024-05-15 15:13:35</td>\n",
       "      <td>photo</td>\n",
       "      <td>A lovely Saturday here for me and Siegfried in...</td>\n",
       "      <td>[{\"original\": \"https://www.facebook.com/photo....</td>\n",
       "      <td>https://www.facebook.com/photo.php?fbid=504364...</td>\n",
       "      <td>https://www.facebook.com/100044377118285/posts...</td>\n",
       "      <td>349593</td>\n",
       "      <td>...</td>\n",
       "      <td>NaN</td>\n",
       "      <td>NaN</td>\n",
       "      <td>NaN</td>\n",
       "      <td>NaN</td>\n",
       "      <td>NaN</td>\n",
       "      <td>NaN</td>\n",
       "      <td>[{\"actual\": {\"likeCount\": 804, \"shareCount\": 2...</td>\n",
       "      <td>en</td>\n",
       "      <td>0</td>\n",
       "      <td>10908|504364417719458</td>\n",
       "    </tr>\n",
       "    <tr>\n",
       "      <th>12000</th>\n",
       "      <td>100044377118285_504364417719458</td>\n",
       "      <td>Facebook</td>\n",
       "      <td>2022-01-15 19:00:35</td>\n",
       "      <td>2024-05-15 15:13:35</td>\n",
       "      <td>photo</td>\n",
       "      <td>A lovely Saturday here for me and Siegfried in...</td>\n",
       "      <td>[{\"original\": \"https://www.facebook.com/photo....</td>\n",
       "      <td>https://www.facebook.com/photo.php?fbid=504364...</td>\n",
       "      <td>https://www.facebook.com/100044377118285/posts...</td>\n",
       "      <td>349593</td>\n",
       "      <td>...</td>\n",
       "      <td>NaN</td>\n",
       "      <td>NaN</td>\n",
       "      <td>NaN</td>\n",
       "      <td>NaN</td>\n",
       "      <td>NaN</td>\n",
       "      <td>NaN</td>\n",
       "      <td>[{\"actual\": {\"likeCount\": 804, \"shareCount\": 2...</td>\n",
       "      <td>en</td>\n",
       "      <td>0</td>\n",
       "      <td>10908|504364417719458</td>\n",
       "    </tr>\n",
       "  </tbody>\n",
       "</table>\n",
       "<p>2 rows × 63 columns</p>\n",
       "</div>"
      ],
      "text/plain": [
       "                            platformId  platform                 date  \\\n",
       "11996  100044377118285_504364417719458  Facebook  2022-01-15 19:00:35   \n",
       "12000  100044377118285_504364417719458  Facebook  2022-01-15 19:00:35   \n",
       "\n",
       "                   updated   type  \\\n",
       "11996  2024-05-15 15:13:35  photo   \n",
       "12000  2024-05-15 15:13:35  photo   \n",
       "\n",
       "                                                 message  \\\n",
       "11996  A lovely Saturday here for me and Siegfried in...   \n",
       "12000  A lovely Saturday here for me and Siegfried in...   \n",
       "\n",
       "                                           expandedLinks  \\\n",
       "11996  [{\"original\": \"https://www.facebook.com/photo....   \n",
       "12000  [{\"original\": \"https://www.facebook.com/photo....   \n",
       "\n",
       "                                                    link  \\\n",
       "11996  https://www.facebook.com/photo.php?fbid=504364...   \n",
       "12000  https://www.facebook.com/photo.php?fbid=504364...   \n",
       "\n",
       "                                                 postUrl  subscriberCount  \\\n",
       "11996  https://www.facebook.com/100044377118285/posts...           349593   \n",
       "12000  https://www.facebook.com/100044377118285/posts...           349593   \n",
       "\n",
       "       ...  brandedContentSponsor_platformId  \\\n",
       "11996  ...                               NaN   \n",
       "12000  ...                               NaN   \n",
       "\n",
       "      brandedContentSponsor_accountType  \\\n",
       "11996                               NaN   \n",
       "12000                               NaN   \n",
       "\n",
       "       brandedContentSponsor_pageDescription  \\\n",
       "11996                                    NaN   \n",
       "12000                                    NaN   \n",
       "\n",
       "       brandedContentSponsor_pageCreatedDate  \\\n",
       "11996                                    NaN   \n",
       "12000                                    NaN   \n",
       "\n",
       "       brandedContentSponsor_pageCategory  brandedContentSponsor_verified  \\\n",
       "11996                                 NaN                             NaN   \n",
       "12000                                 NaN                             NaN   \n",
       "\n",
       "                                                 history  languageCode  \\\n",
       "11996  [{\"actual\": {\"likeCount\": 804, \"shareCount\": 2...            en   \n",
       "12000  [{\"actual\": {\"likeCount\": 804, \"shareCount\": 2...            en   \n",
       "\n",
       "       legacyId                     id  \n",
       "11996         0  10908|504364417719458  \n",
       "12000         0  10908|504364417719458  \n",
       "\n",
       "[2 rows x 63 columns]"
      ]
     },
     "execution_count": 15,
     "metadata": {},
     "output_type": "execute_result"
    }
   ],
   "source": [
    "df[df.id =='10908|504364417719458']"
   ]
  }
 ],
 "metadata": {
  "kernelspec": {
   "display_name": "base",
   "language": "python",
   "name": "python3"
  },
  "language_info": {
   "codemirror_mode": {
    "name": "ipython",
    "version": 3
   },
   "file_extension": ".py",
   "mimetype": "text/x-python",
   "name": "python",
   "nbconvert_exporter": "python",
   "pygments_lexer": "ipython3",
   "version": "3.8.8"
  }
 },
 "nbformat": 4,
 "nbformat_minor": 2
}
