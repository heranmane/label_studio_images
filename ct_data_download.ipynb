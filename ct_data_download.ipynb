version https://git-lfs.github.com/spec/v1
oid sha256:ea20f17f785d72559dc71be087299013260c0d45d0997e06fcee5b1cc25ceb54
size 237972
